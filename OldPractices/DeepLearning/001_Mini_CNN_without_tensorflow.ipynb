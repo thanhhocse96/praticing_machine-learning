{
 "cells": [
  {
   "cell_type": "markdown",
   "metadata": {},
   "source": [
    "Tham khảo và có động lực từ:\n",
    "1. [Convolutional Neural Network from scratch](https://github.com/zishansami102/CNN-from-Scratch)"
   ]
  },
  {
   "cell_type": "code",
   "execution_count": null,
   "metadata": {},
   "outputs": [],
   "source": [
    "import numpy as np"
   ]
  },
  {
   "cell_type": "code",
   "execution_count": null,
   "metadata": {},
   "outputs": [],
   "source": [
    "TRAIN_FILE = './MNIST/'"
   ]
  },
  {
   "cell_type": "markdown",
   "metadata": {},
   "source": [
    "##  1. Preprocessing"
   ]
  },
  {
   "cell_type": "code",
   "execution_count": null,
   "metadata": {},
   "outputs": [],
   "source": [
    "import gzip"
   ]
  },
  {
   "cell_type": "markdown",
   "metadata": {},
   "source": [
    "_extract&#95;data_: Load và chứa nội dung dữ liệu từ các file image trong MNIST dataset\n",
    "Các thông số: \n",
    "1. file\\_name: tên file image\n",
    "2. num\\_instance: số lượng image\n",
    "3. IMAGE\\_WIDTH: số chiều của 1 imagez\n",
    "Tham khảo: \n",
    "1. [tylerneylon/mnist.py](https://gist.github.com/tylerneylon/ce60e8a06e7506ac45788443f7269e40)\n",
    "2. [zishansami102/CNN-from-Scratch](https://github.com/zishansami102/CNN-from-Scratch/blob/master/MNIST/convnet.py)"
   ]
  },
  {
   "cell_type": "code",
   "execution_count": null,
   "metadata": {},
   "outputs": [],
   "source": [
    "def extract_data(file_name, num_instance, IMAGE_WIDTH):"
   ]
  },
  {
   "cell_type": "markdown",
   "metadata": {},
   "source": [
    "## 2. Model"
   ]
  },
  {
   "cell_type": "code",
   "execution_count": null,
   "metadata": {},
   "outputs": [],
   "source": [
    "def ConvNetmodel(image, label, filt1, bias1):\n",
    "    "
   ]
  }
 ],
 "metadata": {
  "kernelspec": {
   "display_name": "Python 3",
   "language": "python",
   "name": "python3"
  },
  "language_info": {
   "codemirror_mode": {
    "name": "ipython",
    "version": 3
   },
   "file_extension": ".py",
   "mimetype": "text/x-python",
   "name": "python",
   "nbconvert_exporter": "python",
   "pygments_lexer": "ipython3",
   "version": "3.7.0"
  }
 },
 "nbformat": 4,
 "nbformat_minor": 2
}
